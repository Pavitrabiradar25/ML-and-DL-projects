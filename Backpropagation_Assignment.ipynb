{
  "nbformat": 4,
  "nbformat_minor": 0,
  "metadata": {
    "colab": {
      "name": "Backpropagation_Assignment.ipynb",
      "provenance": [],
      "collapsed_sections": []
    },
    "kernelspec": {
      "display_name": "Python 3",
      "language": "python",
      "name": "python3"
    },
    "language_info": {
      "codemirror_mode": {
        "name": "ipython",
        "version": 3
      },
      "file_extension": ".py",
      "mimetype": "text/x-python",
      "name": "python",
      "nbconvert_exporter": "python",
      "pygments_lexer": "ipython3",
      "version": "3.6.3"
    }
  },
  "cells": [
    {
      "cell_type": "markdown",
      "metadata": {
        "id": "y871RZtRhCEH"
      },
      "source": [
        "# <font color='red'>Backpropagation</font>"
      ]
    },
    {
      "cell_type": "markdown",
      "metadata": {
        "id": "LqePYi-4mFvK"
      },
      "source": [
        "\n",
        "In this assignment, you will implement Backpropagation from scratch. You will then verify the correctness of the your implementation using a \"grader\" function/cell (provided by us) which will match your implmentation.\n",
        "\n",
        "The grader fucntion would help you validate the correctness of your code. \n",
        "\n",
        "Please submit the final Colab notebook in the classroom ONLY after you have verified your code using the grader function/cell.\n",
        "\n",
        "\n"
      ]
    },
    {
      "cell_type": "markdown",
      "metadata": {
        "id": "0huUQ0byiI0I"
      },
      "source": [
        "## <font color='red'>Loading data </font>"
      ]
    },
    {
      "cell_type": "code",
      "source": [
        "from google.colab import drive\n",
        "drive.mount('/content/drive')"
      ],
      "metadata": {
        "id": "uVAdyu6Sm4Ah",
        "outputId": "db22a945-6938-44fc-9a31-fa88ad2fc109",
        "colab": {
          "base_uri": "https://localhost:8080/"
        }
      },
      "execution_count": 53,
      "outputs": [
        {
          "output_type": "stream",
          "name": "stdout",
          "text": [
            "Drive already mounted at /content/drive; to attempt to forcibly remount, call drive.mount(\"/content/drive\", force_remount=True).\n"
          ]
        }
      ]
    },
    {
      "cell_type": "code",
      "metadata": {
        "id": "1hSje5CBgcUb",
        "outputId": "d94fd769-46d5-4203-a6b5-00f98e6c9a4d",
        "colab": {
          "base_uri": "https://localhost:8080/"
        }
      },
      "source": [
        "import pickle\n",
        "import numpy as np\n",
        "from tqdm import tqdm\n",
        "import matplotlib.pyplot as plt\n",
        "\n",
        "with open('/content/drive/MyDrive/dataset/data.pkl', 'rb') as f:\n",
        "    data = pickle.load(f)\n",
        "print(data.shape)\n",
        "X = data[:, :5]\n",
        "y = data[:, -1]\n",
        "print(X.shape, y.shape)"
      ],
      "execution_count": 54,
      "outputs": [
        {
          "output_type": "stream",
          "name": "stdout",
          "text": [
            "(506, 6)\n",
            "(506, 5) (506,)\n"
          ]
        }
      ]
    },
    {
      "cell_type": "markdown",
      "metadata": {
        "id": "hmphIg_E52Rs"
      },
      "source": [
        "<font color='blue'><b>Check this video for better understanding of the computational graphs and back propagation</font>"
      ]
    },
    {
      "cell_type": "code",
      "metadata": {
        "colab": {
          "base_uri": "https://localhost:8080/",
          "height": 521
        },
        "id": "uUWpHhgg53eu",
        "outputId": "25629abf-9b07-4c40-a6da-177c398eab24"
      },
      "source": [
        "from IPython.display import YouTubeVideo\n",
        "YouTubeVideo('i94OvYb6noo',width=\"1000\",height=\"500\")"
      ],
      "execution_count": 3,
      "outputs": [
        {
          "output_type": "execute_result",
          "data": {
            "text/html": [
              "\n",
              "        <iframe\n",
              "            width=\"1000\"\n",
              "            height=\"500\"\n",
              "            src=\"https://www.youtube.com/embed/i94OvYb6noo\"\n",
              "            frameborder=\"0\"\n",
              "            allowfullscreen\n",
              "        ></iframe>\n",
              "        "
            ],
            "text/plain": [
              "<IPython.lib.display.YouTubeVideo at 0x7ff2b55fddd0>"
            ],
            "image/jpeg": "[encoded data removed]"
          },
          "metadata": {},
          "execution_count": 3
        }
      ]
    },
    {
      "cell_type": "markdown",
      "metadata": {
        "id": "5JL-0soQistC"
      },
      "source": [
        "# <font color='red'>Computational graph</font>"
      ]
    },
    {
      "cell_type": "markdown",
      "metadata": {
        "id": "nREnTTJ3i0Vd"
      },
      "source": [
        "<img src='https://i.imgur.com/seSGbNS.png'>"
      ]
    },
    {
      "cell_type": "markdown",
      "metadata": {
        "id": "DSPX_H_4i_HT"
      },
      "source": [
        "\n",
        "*  **If you observe the graph, we are having input features [f1, f2, f3, f4, f5] and 9 weights [w1, w2, w3, w4, w5, w6,    w7, w8, w9]**.<br><br>\n",
        "*  **The final output of this graph is a value L which is computed as (Y-Y')^2** "
      ]
    },
    {
      "cell_type": "markdown",
      "metadata": {
        "id": "D54eDEv6jkO4"
      },
      "source": [
        "## <font color='red'>Task 1: Implementing Forward propagation, Backpropagation and Gradient checking </font>"
      ]
    },
    {
      "cell_type": "markdown",
      "metadata": {
        "id": "xyWK94o_fTKH"
      },
      "source": [
        "# <font color='red'>Task 1.1 </font>"
      ]
    },
    {
      "cell_type": "markdown",
      "metadata": {
        "id": "RwEcPWLffTKI"
      },
      "source": [
        "## <font color='blue'>Forward propagation </font>"
      ]
    },
    {
      "cell_type": "markdown",
      "metadata": {
        "id": "FCZrm-gkfTKI"
      },
      "source": [
        "\n",
        "*  <b>\n",
        "    Forward propagation</b>(Write your code in<font color='blue'> def forward_propagation()</b></font>)<br><br>\n",
        "    For easy debugging, we will break the computational graph into 3 parts.\n",
        "\n",
        "    <font color='green'><b>Part 1</b></font></b>\n",
        "    <img src='https://i.imgur.com/0xUaxy6.png'><br><br>\n",
        "    <font color='green'><b>Part 2</b></font></b><br>\n",
        "    <img src='https://i.imgur.com/J29pAJL.png'><br><br>\n",
        "    <font color='green'><b>Part 3</b></font></b>\n",
        "    <img src='https://i.imgur.com/vMyCsd9.png'>"
      ]
    },
    {
      "cell_type": "code",
      "metadata": {
        "id": "ADCovl2FfTKJ"
      },
      "source": [
        "import math\n",
        "def sigmoid(z):\n",
        "    '''In this function, we will compute the sigmoid(z)'''\n",
        "    # we can use this function in forward and backward propagation\n",
        "    # write the code to compute the sigmoid value of z and return that value \n",
        "    return 1/(1+math.exp(-z))"
      ],
      "execution_count": 3,
      "outputs": []
    },
    {
      "cell_type": "code",
      "metadata": {
        "id": "dLJ-OYwefTKJ",
        "outputId": "347fdbe9-e1c0-4bd6-9fa9-4ecd39cb4080",
        "colab": {
          "base_uri": "https://localhost:8080/"
        }
      },
      "source": [
        "def grader_sigmoid(z):\n",
        "  #if you have written the code correctly then the grader function will output true\n",
        "  val=sigmoid(z)\n",
        "  assert(val==0.8807970779778823)\n",
        "  return True\n",
        "grader_sigmoid(2)"
      ],
      "execution_count": 55,
      "outputs": [
        {
          "output_type": "execute_result",
          "data": {
            "text/plain": [
              "True"
            ]
          },
          "metadata": {},
          "execution_count": 55
        }
      ]
    },
    {
      "cell_type": "code",
      "metadata": {
        "id": "KD3piNkifTKJ"
      },
      "source": [
        "def forward_propagation(x, y, w):\n",
        "        '''In this function, we will compute the forward propagation '''\n",
        "        # X: input data point, note that in this assignment you are having 5-d data points\n",
        "        # y: output varible\n",
        "        # W: weight array, its of length 9, W[0] corresponds to w1 in graph, W[1] corresponds to w2 in graph,..., W[8] corresponds to w9 in graph.  \n",
        "        # you have to return the following variables\n",
        "        # exp= part1 (compute the forward propagation until exp and then store the values in exp)\n",
        "        # tanh =part2(compute the forward propagation until tanh and then store the values in tanh)\n",
        "        # sig = part3(compute the forward propagation until sigmoid and then store the values in sig)\n",
        "        # we are computing one of the values for better understanding\n",
        "        \n",
        "        val_1= (w[0]*x[0]+w[1]*x[1]) * (w[0]*x[0]+w[1]*x[1]) + w[5]\n",
        "        part_1 = np.exp(val_1)\n",
        "        val_2= part_1+w[6]\n",
        "        part_2 = np.tanh(val_2)\n",
        "        val_3= (np.sin(w[2]*x[2]))*(w[3]*x[3]+w[4]*x[4])+w[7]\n",
        "        part_3=sigmoid(val_3)\n",
        "        \n",
        "        \n",
        "        # after computing part1,part2 and part3 compute the value of y' from the main Computational graph using required equations\n",
        "        # write code to compute the value of L=(y-y')^2 and store it in variable loss\n",
        "        # compute derivative of L  w.r.to y' and store it in dy_pred \n",
        "        # Create a dictionary to store all the intermediate values i.e. dy_pred ,loss,exp,tanh,sigmoid\n",
        "        # we will be using the dictionary to find values in backpropagation, you can add other keys in dictionary as well\n",
        "        \n",
        "        forward_dict={}\n",
        "        forward_dict['exp']= part_1\n",
        "        forward_dict['sigmoid'] = part_3\n",
        "        forward_dict['tanh'] =part_2\n",
        "        y_hat = forward_dict['sigmoid']*w[8]+forward_dict['tanh']\n",
        "        forward_dict['loss'] = (y -y_hat) **2\n",
        "        forward_dict['dy_pred'] =  2 * (y- y_hat) * (-1)\n",
        "        \n",
        "        return forward_dict"
      ],
      "execution_count": 56,
      "outputs": []
    },
    {
      "cell_type": "code",
      "metadata": {
        "id": "vP0iV7f4fTKK",
        "outputId": "4f4afa92-27f7-41dd-9984-90658f6c7264",
        "colab": {
          "base_uri": "https://localhost:8080/"
        }
      },
      "source": [
        "def grader_forwardprop(data):\n",
        "    dl = (data['dy_pred']==-1.9285278284819143)\n",
        "    loss=(data['loss']==0.9298048963072919)\n",
        "    part1=(data['exp']==1.1272967040973583)\n",
        "    part2=(data['tanh']==0.8417934192562146)\n",
        "    part3=(data['sigmoid']==0.5279179387419721)\n",
        "    assert(dl and loss and part1 and part2 and part3)\n",
        "    return True\n",
        "w=np.ones(9)*0.1\n",
        "d1=forward_propagation(X[0],y[0],w)\n",
        "grader_forwardprop(d1)"
      ],
      "execution_count": 57,
      "outputs": [
        {
          "output_type": "execute_result",
          "data": {
            "text/plain": [
              "True"
            ]
          },
          "metadata": {},
          "execution_count": 57
        }
      ]
    },
    {
      "cell_type": "markdown",
      "metadata": {
        "id": "2zcQmvkvfTKL"
      },
      "source": [
        "# <font color='red'>Task 1.2 </font>"
      ]
    },
    {
      "cell_type": "markdown",
      "metadata": {
        "id": "4YVYD18xfTKL"
      },
      "source": [
        "## <font color='blue'>Backward propagation</font>"
      ]
    },
    {
      "cell_type": "code",
      "metadata": {
        "id": "Ld1PMQtffTKL"
      },
      "source": [
        "def backward_propagation(x,w,forward_dict):\n",
        "  dw={}\n",
        "  k = forward_dict['dy_pred']\n",
        "  dw['dw9'] = k * forward_dict['sigmoid']\n",
        "  dw['dw8'] = k * w[8] * (forward_dict['sigmoid'] *(1- forward_dict['sigmoid']))\n",
        "  dw['dw7'] = k * (1- (forward_dict['tanh'])**2)\n",
        "  dw['dw6'] = k * (1- forward_dict['tanh']**2) * forward_dict['exp']\n",
        "  dw['dw5'] = dw['dw8'] * (np.sin(w[2]*x[2])) *x[4]\n",
        "  dw['dw4'] = dw['dw8'] * (np.sin(w[2]*x[2])) *x[3]\n",
        "  dw['dw3'] = dw['dw8']* ((x[3]*w[3])+(x[4]*w[4])) * np.cos(x[2] * w[2])* x[2]\n",
        "  dw['dw2'] = dw['dw6'] * 2 *((w[0]*x[0])+(x[1]*w[1]))* x[1]\n",
        "  dw['dw1'] = dw['dw6'] * 2 *((w[0]*x[0])+(x[1]*w[1]))* x[0]\n",
        "  return dw\n",
        "\n",
        "\n",
        "\n",
        "  '''In this function, we will compute the backward propagation '''\n",
        "  # forward_dict: the outputs of the forward_propagation() function\n",
        "  # write code to compute the gradients of each weight [w1,w2,w3,...,w9]\n",
        "  # Hint: you can use dict type to store the required variables \n",
        "  # dw1 = # in dw1 compute derivative of L w.r.to w1\n",
        "  # dw2 = # in dw2 compute derivative of L w.r.to w2\n",
        "  # dw3 = # in dw3 compute derivative of L w.r.to w3\n",
        "  # dw4 = # in dw4 compute derivative of L w.r.to w4\n",
        "  # dw5 = # in dw5 compute derivative of L w.r.to w5\n",
        "  # dw6 = # in dw6 compute derivative of L w.r.to w6\n",
        "  # dw7 = # in dw7 compute derivative of L w.r.to w7\n",
        "  # dw8 = # in dw8 compute derivative of L w.r.to w8\n",
        "  # dw9 = # in dw9 compute derivative of L w.r.to w9\n",
        "    \n",
        "    \n"
      ],
      "execution_count": 58,
      "outputs": []
    },
    {
      "cell_type": "code",
      "metadata": {
        "id": "0ipQbNXOfTKM",
        "outputId": "7259efe4-f8d9-4366-b74a-269507957868",
        "colab": {
          "base_uri": "https://localhost:8080/"
        }
      },
      "source": [
        "def grader_backprop(data):\n",
        "    dw1=(np.round(data['dw1'],6)==-0.229733)\n",
        "    dw2=(np.round(data['dw2'],6)==-0.021408)\n",
        "    dw3=(np.round(data['dw3'],6)==-0.005625)\n",
        "    dw4=(np.round(data['dw4'],6)==-0.004658)\n",
        "    dw5=(np.round(data['dw5'],6)==-0.001008)\n",
        "    dw6=(np.round(data['dw6'],6)==-0.633475)\n",
        "    dw7=(np.round(data['dw7'],6)==-0.561942)\n",
        "    dw8=(np.round(data['dw8'],6)==-0.048063)\n",
        "    dw9=(np.round(data['dw9'],6)==-1.018104)\n",
        "    assert(dw1 and dw2 and dw3 and dw4 and dw5 and dw6 and dw7 and dw8 and dw9)\n",
        "    return True \n",
        "w=np.ones(9)*0.1\n",
        "forward_dict=forward_propagation(X[0],y[0],w)\n",
        "backward_dict=backward_propagation(X[0],w,forward_dict)\n",
        "grader_backprop(backward_dict)"
      ],
      "execution_count": 59,
      "outputs": [
        {
          "output_type": "execute_result",
          "data": {
            "text/plain": [
              "True"
            ]
          },
          "metadata": {},
          "execution_count": 59
        }
      ]
    },
    {
      "cell_type": "markdown",
      "metadata": {
        "id": "RlR1JVN5fTKM"
      },
      "source": [
        "# <font color='red'>Task 1.3 </font>"
      ]
    },
    {
      "cell_type": "markdown",
      "metadata": {
        "id": "STS4NrQQc6OH"
      },
      "source": [
        " ## <font color='blue'>Gradient clipping</font>"
      ]
    },
    {
      "cell_type": "markdown",
      "metadata": {
        "id": "XY7ivRNzdPok"
      },
      "source": [
        "<b> Check this  <a href='https://towardsdatascience.com/how-to-debug-a-neural-network-with-gradient-checking-41deec0357a9'>blog link</a> for more details on Gradient clipping"
      ]
    },
    {
      "cell_type": "markdown",
      "metadata": {
        "id": "BrsfpDoidtZ5"
      },
      "source": [
        " we know that the derivative of any function is\n",
        " \n",
        " $$\\lim_{\\epsilon\\to0}\\frac{f(x+\\epsilon)-f(x-\\epsilon)}{2\\epsilon}$$\n"
      ]
    },
    {
      "cell_type": "markdown",
      "metadata": {
        "id": "vUcmt0kPd02f"
      },
      "source": [
        "*  The definition above can be used as a numerical approximation of the derivative. Taking an epsilon small enough, the calculated approximation will have an error in the range of epsilon squared. \n",
        "\n",
        "*  In other words, if epsilon is 0.001, the approximation will be off by 0.00001.\n",
        "\n",
        "Therefore, we can use this to approximate the gradient, and in turn make sure that backpropagation is implemented properly. This forms the basis of <b>gradient checking!</b>"
      ]
    },
    {
      "cell_type": "markdown",
      "metadata": {
        "id": "pFSu16KCeU0x"
      },
      "source": [
        "## <Font color='blue'>Gradient checking example</font>"
      ]
    },
    {
      "cell_type": "markdown",
      "metadata": {
        "id": "Gz0mmT_xecfC"
      },
      "source": [
        "<font >\n",
        "lets understand the concept with a simple example:\n",
        "$f(w1,w2,x1,x2)=w_{1}^{2} . x_{1} + w_{2} . x_{2}$ \n",
        "\n",
        "from the above function , lets assume $w_{1}=1$, $w_{2}=2$, $x_{1}=3$, $x_{2}=4$ the gradient of $f$ w.r.t $w_{1}$ is\n",
        "\n",
        "\\begin{array} {lcl}\n",
        "\\frac{df}{dw_{1}} = dw_{1} &=&2.w_{1}.x_{1} \\\\& = &2.1.3\\\\& = &6\n",
        "\\end{array}\n",
        "\n",
        "\n",
        "let calculate the aproximate gradient of $w_{1}$ as mentinoned in the above formula and considering $\\epsilon=0.0001$\n",
        "\n",
        "\\begin{array} {lcl}\n",
        "dw_1^{approx} & = & \\frac{f(w1+\\epsilon,w2,x1,x2)-f(w1-\\epsilon,w2,x1,x2)}{2\\epsilon} \\\\ & = & \\frac{((1+0.0001)^{2} . 3 + 2 . 4) - ((1-0.0001)^{2} . 3 + 2 . 4)}{2\\epsilon} \\\\ & = & \\frac{(1.00020001 . 3 + 2 . 4) - (0.99980001. 3 + 2 . 4)}{2*0.0001} \\\\ & = & \\frac{(11.00060003) - (10.99940003)}{0.0002}\\\\ & = & 5.99999999999\n",
        "\\end{array}\n",
        "\n",
        "Then, we apply the following formula for gradient check: <i>gradient_check</i> = \n",
        "$\\frac{\\left\\Vert\\left (dW-dW^{approx}\\rm\\right) \\right\\Vert_2}{\\left\\Vert\\left (dW\\rm\\right) \\right\\Vert_2+\\left\\Vert\\left (dW^{approx}\\rm\\right) \\right\\Vert_2}$\n",
        "\n",
        "The equation above is basically the Euclidean distance normalized by the sum of the norm of the vectors. We use normalization in case that one of the vectors is very small.\n",
        "As a value for epsilon, we usually opt for 1e-7. Therefore, if gradient check return a value less than 1e-7, then it means that backpropagation was implemented correctly. Otherwise, there is potentially a mistake in your implementation. If the value exceeds 1e-3, then you are sure that the code is not correct.\n",
        "\n",
        "in our example: <i>gradient_check</i> $ = \\frac{(6 - 5.999999999994898)}{(6 + 5.999999999994898)} = 4.2514140356330737e^{-13}$\n",
        "\n",
        "you can mathamatically derive the same thing like this\n",
        "\n",
        "\\begin{array} {lcl}\n",
        "dw_1^{approx} & = & \\frac{f(w1+\\epsilon,w2,x1,x2)-f(w1-\\epsilon,w2,x1,x2)}{2\\epsilon} \\\\ & = & \\frac{((w_{1}+\\epsilon)^{2} . x_{1} + w_{2} . x_{2}) - ((w_{1}-\\epsilon)^{2} . x_{1} + w_{2} . x_{2})}{2\\epsilon} \\\\ & = & \\frac{4. \\epsilon.w_{1}. x_{1}}{2\\epsilon} \\\\ & = &  2.w_{1}.x_{1}\n",
        "\\end{array}\n"
      ]
    },
    {
      "cell_type": "markdown",
      "metadata": {
        "id": "f1BFQQaCermK"
      },
      "source": [
        "## <font color='red'> Implement Gradient checking </font> <br>\n",
        " (Write your code in <font color='blue'> def gradient_checking()</font>)"
      ]
    },
    {
      "cell_type": "markdown",
      "metadata": {
        "id": "GqpfA3AqfJba"
      },
      "source": [
        "**Algorithm** \n",
        "\n"
      ]
    },
    {
      "cell_type": "markdown",
      "metadata": {
        "id": "FL39KeRFfNoD"
      },
      "source": [
        "<pre>\n",
        "<font color='darkblue'>\n",
        "W = initilize_randomly\n",
        "def gradient_checking(data_point, W):<font color='grey'>\n",
        "    # compute the L value using forward_propagation()\n",
        "    # compute the gradients of W using backword_propagation()</font>\n",
        "    approx_gradients = []\n",
        "    for each wi weight value in W:<font color='grey'>\n",
        "        # add a small value to weight wi, and then find the values of L with the updated weights\n",
        "        # subtract a small value to weight wi, and then find the values of L with the updated weights\n",
        "        # compute the approximation gradients of weight wi</font>\n",
        "        approx_gradients.append(approximation gradients of weight wi)<font color='grey'>\n",
        "    # compare the gradient of weights W from backword_propagation() with the aproximation gradients of weights with <br>  gradient_check formula</font>\n",
        "    return gradient_check</font>\n",
        "<b>NOTE: you can do sanity check by checking all the return values of gradient_checking(),<br> they have to be zero. if not you have bug in your code\n",
        "</pre></b>"
      ]
    },
    {
      "cell_type": "code",
      "metadata": {
        "id": "XBoJRqAwfTKO",
        "outputId": "3694927b-abf6-49ac-d88a-04260bcbe95b",
        "colab": {
          "base_uri": "https://localhost:8080/"
        }
      },
      "source": [
        "def gradient_checking(data,eps):\n",
        "  X= data[:, :5]\n",
        "  y = data[:, -1]\n",
        "  L = forward_propagation(X[0],y[0],W)\n",
        "  print(\"Loss\",L['loss'])\n",
        "  dw = backward_propagation(X[0],W,L)\n",
        "  print(\"Gradient\",dw)\n",
        "  approx_gradients = []\n",
        "  gradient_check = []\n",
        "  e_0 = 0.0001\n",
        "  for i in range(9):\n",
        "    W[i] = W[i] + e_0\n",
        "    dl1 = forward_propagation(X[0],y[0],W)\n",
        "    l1 = dl1['loss']\n",
        "    W[i] = W[i] - (2*e_0)\n",
        "    dl2 = forward_propagation(X[0],y[0],W)\n",
        "    l2 = dl2['loss']\n",
        "    dw_approx = (l1-l2)/ (2*e_0)\n",
        "    approx_gradients.append(dw_approx)\n",
        "    #print(approx_gradients)\n",
        "  for i in range(9):\n",
        "    gradient_check.append(approx_gradients[i] - dw['dw' + str(i+1)])\n",
        "  return gradient_check\n",
        "\n",
        "# initialize weights\n",
        "W=np.ones(9)*0.1\n",
        "diff = gradient_checking(data,W)\n",
        "print(diff)\n",
        "    "
      ],
      "execution_count": 60,
      "outputs": [
        {
          "output_type": "stream",
          "name": "stdout",
          "text": [
            "Loss 0.9298048963072919\n",
            "Gradient {'dw9': -1.0181044360187037, 'dw8': -0.04806288407316516, 'dw7': -0.561941842854033, 'dw6': -0.6334751873437471, 'dw5': -0.0010077228498574246, 'dw4': -0.004657941222712423, 'dw3': -0.005625405580266319, 'dw2': -0.02140761471775293, 'dw1': -0.22973323498702}\n",
            "[4.765002142859132e-09, 1.8622573097645118e-05, -7.591536392743958e-08, 4.557630366739361e-06, 9.852254813384666e-07, -3.14725668294491e-05, -0.00017599811356894257, -3.831193749366524e-06, -2.3099298455564465e-05]\n"
          ]
        }
      ]
    },
    {
      "cell_type": "markdown",
      "metadata": {
        "id": "0ufbFBFfhgL0"
      },
      "source": [
        "# <font color='red'> Task 2 : Optimizers </font>"
      ]
    },
    {
      "cell_type": "markdown",
      "metadata": {
        "id": "7zt05soYh1RM"
      },
      "source": [
        "* As a part of this task, you will be implementing 2  optimizers(methods to update weight)\n",
        "* Use the same computational graph that was mentioned above to do this task\n",
        "* The weights have been initialized from normal distribution with mean=0 and std=0.01. The initialization of weights is very important otherwiswe you can face vanishing gradient and exploding gradients problem."
      ]
    },
    {
      "cell_type": "markdown",
      "metadata": {
        "id": "CAyi7aSAicbr"
      },
      "source": [
        "**Check below video for reference purpose**"
      ]
    },
    {
      "cell_type": "code",
      "metadata": {
        "id": "ZogcxiegkQpz",
        "outputId": "f198813e-da18-4b1f-dd53-a46b36e063b7",
        "colab": {
          "base_uri": "https://localhost:8080/",
          "height": 521
        }
      },
      "source": [
        "from IPython.display import YouTubeVideo\n",
        "YouTubeVideo('gYpoJMlgyXA',width=\"1000\",height=\"500\")"
      ],
      "execution_count": 11,
      "outputs": [
        {
          "output_type": "execute_result",
          "data": {
            "text/html": [
              "\n",
              "        <iframe\n",
              "            width=\"1000\"\n",
              "            height=\"500\"\n",
              "            src=\"https://www.youtube.com/embed/gYpoJMlgyXA\"\n",
              "            frameborder=\"0\"\n",
              "            allowfullscreen\n",
              "        ></iframe>\n",
              "        "
            ],
            "text/plain": [
              "<IPython.lib.display.YouTubeVideo at 0x7f3dc6ec1650>"
            ],
            "image/jpeg": "[encoded data removed]"
          },
          "metadata": {},
          "execution_count": 11
        }
      ]
    },
    {
      "cell_type": "markdown",
      "metadata": {
        "id": "jmefh7ktjbaR"
      },
      "source": [
        "<font color='blue'><b>Algorithm</b>"
      ]
    },
    {
      "cell_type": "markdown",
      "metadata": {
        "id": "nAc4NudkjdNa"
      },
      "source": [
        "<pre>\n",
        "    for each epoch(1-20):\n",
        "        for each data point in your data:\n",
        "            using the functions forward_propagation() and backword_propagation() compute the gradients of weights\n",
        "            update the weigts with help of gradients  \n",
        "</pre>"
      ]
    },
    {
      "cell_type": "markdown",
      "metadata": {
        "id": "_fdmPNqtjm3X"
      },
      "source": [
        "## <font color='red'> Implement below tasks</b>"
      ]
    },
    {
      "cell_type": "markdown",
      "metadata": {
        "id": "Ll9-CRsLjx_D"
      },
      "source": [
        "\n",
        "*  <b>Task 2.1</b>: you will be implementing the above algorithm with <b>Vanilla update</b> of weights<br><br>\n",
        "*  <b>Task 2.2</b>: you will be implementing the above algorithm with <b>Momentum update</b> of weights<br><br>\n",
        "*  <b>Task 2.3</b>: you will be implementing the above algorithm with <b>Adam update</b> of weights<br><br>\n"
      ]
    },
    {
      "cell_type": "markdown",
      "metadata": {
        "id": "atp082demrUR"
      },
      "source": [
        "**Note : If you get any assertion error while running grader functions, please print the variables in grader functions and check which variable is returning False .Recheck your logic for that variable .**"
      ]
    },
    {
      "cell_type": "markdown",
      "metadata": {
        "id": "cv_hZFWalS2z"
      },
      "source": [
        "### <font color='blue'>2.1 Algorithm with Vanilla update of weights</font>"
      ]
    },
    {
      "cell_type": "code",
      "metadata": {
        "id": "KlVuEsRjQoW5",
        "outputId": "afdd90a0-8ee2-4398-f7da-848e27b8dacb",
        "colab": {
          "base_uri": "https://localhost:8080/"
        }
      },
      "source": [
        " #Weight initialization\n",
        "import numpy as np\n",
        "W1 = np.random.normal(0,0.01,9)\n",
        "print(W1)"
      ],
      "execution_count": 106,
      "outputs": [
        {
          "output_type": "stream",
          "name": "stdout",
          "text": [
            "[-0.00793609 -0.00429919  0.00936459  0.00029347  0.01328284 -0.006678\n",
            " -0.0056826   0.01111514  0.00073614]\n"
          ]
        }
      ]
    },
    {
      "cell_type": "code",
      "metadata": {
        "id": "HuDaxRnCQoW5",
        "outputId": "d7e1fbfb-ca45-48f8-9995-123cdb26f227",
        "colab": {
          "base_uri": "https://localhost:8080/"
        }
      },
      "source": [
        "epochs =100\n",
        "learning_rate = 0.01\n",
        "vanila_loss =[]\n",
        "for epoch in range(epochs):\n",
        " loss=0\n",
        " for i in range(0,506):\n",
        "   l = forward_propagation(X[i],y[i],W1)\n",
        "   loss+= l['loss']\n",
        "   dw = backward_propagation(X[i],W1,l)\n",
        "   key_l = list(dw.keys())\n",
        "   key_l.reverse()\n",
        "   for i in range(0,9):\n",
        "     W1[i] = W1[i]- learning_rate * dw[key_l[i]]\n",
        " vanila_loss.append(loss)\n",
        " print(epoch, loss)\n"
      ],
      "execution_count": 107,
      "outputs": [
        {
          "output_type": "stream",
          "name": "stdout",
          "text": [
            "0 69.00728200994803\n",
            "1 14.146472458426567\n",
            "2 14.290857580215244\n",
            "3 14.097311031074852\n",
            "4 13.519373798418226\n",
            "5 12.008673745773333\n",
            "6 9.061876676314698\n",
            "7 5.549197519508906\n",
            "8 3.077571873733278\n",
            "9 1.811386168976127\n",
            "10 1.211031134926864\n",
            "11 0.9181358863251785\n",
            "12 0.7662392031674388\n",
            "13 0.6810444076701634\n",
            "14 0.6287504030514999\n",
            "15 0.5935519226543501\n",
            "16 0.5678214562530043\n",
            "17 0.5477265146810314\n",
            "18 0.5312356875133276\n",
            "19 0.517197968828664\n",
            "20 0.5049113633013395\n",
            "21 0.4939167083508719\n",
            "22 0.4838960469779277\n",
            "23 0.47462010226405005\n",
            "24 0.46591927822304274\n",
            "25 0.45766633051374134\n",
            "26 0.44976515153166396\n",
            "27 0.44214300876503954\n",
            "28 0.4347449090120148\n",
            "29 0.42752938230706117\n",
            "30 0.4204652762426336\n",
            "31 0.41352930025188\n",
            "32 0.40670414004308686\n",
            "33 0.39997701055594037\n",
            "34 0.39333854762565074\n",
            "35 0.38678196130094794\n",
            "36 0.3803023909079288\n",
            "37 0.3738964152289491\n",
            "38 0.3675616815671488\n",
            "39 0.3612966256376322\n",
            "40 0.35510026063239736\n",
            "41 0.3489720188106859\n",
            "42 0.34291163285861687\n",
            "43 0.33691904727643834\n",
            "44 0.33099435237647096\n",
            "45 0.32513773526126843\n",
            "46 0.31934944351976163\n",
            "47 0.3136297584236555\n",
            "48 0.3079789752016937\n",
            "49 0.3023973885733016\n",
            "50 0.29688528218063653\n",
            "51 0.29144292090350143\n",
            "52 0.2860705453021161\n",
            "53 0.28076836762840784\n",
            "54 0.2755365689930654\n",
            "55 0.27037529738516497\n",
            "56 0.2652846663227208\n",
            "57 0.2602647539727893\n",
            "58 0.2553156026244695\n",
            "59 0.2504372184306942\n",
            "60 0.2456295713586092\n",
            "61 0.24089259530553953\n",
            "62 0.23622618834984596\n",
            "63 0.2316302131148252\n",
            "64 0.22710449722978335\n",
            "65 0.22264883387671924\n",
            "66 0.2182629824138076\n",
            "67 0.21394666906877863\n",
            "68 0.20969958769635735\n",
            "69 0.20552140059468943\n",
            "70 0.2014117393760483\n",
            "71 0.19737020588721946\n",
            "72 0.1933963731751033\n",
            "73 0.18948978649305048\n",
            "74 0.18564996434332998\n",
            "75 0.18187639955124085\n",
            "76 0.17816856036620915\n",
            "77 0.17452589158542317\n",
            "78 0.170947815695329\n",
            "79 0.16743373402671105\n",
            "80 0.1639830279189139\n",
            "81 0.16059505988907524\n",
            "82 0.15726917480232397\n",
            "83 0.15400470103912092\n",
            "84 0.15080095165608923\n",
            "85 0.14765722553696775\n",
            "86 0.14457280853045298\n",
            "87 0.1415469745720505\n",
            "88 0.1385789867871703\n",
            "89 0.1356680985730767\n",
            "90 0.13281355465742836\n",
            "91 0.1300145921314428\n",
            "92 0.12727044145597183\n",
            "93 0.12458032743892977\n",
            "94 0.12194347018277298\n",
            "95 0.11935908600097765\n",
            "96 0.11682638830257713\n",
            "97 0.11434458844406778\n",
            "98 0.11191289654814375\n",
            "99 0.10953052228890192\n"
          ]
        }
      ]
    },
    {
      "cell_type": "markdown",
      "source": [
        "Plot between epochs and **loss**"
      ],
      "metadata": {
        "id": "CelCWrplgOQv"
      }
    },
    {
      "cell_type": "code",
      "source": [
        "epoch = range(0,100)\n",
        "plt.plot(epoch, vanila_loss, 'g', label='Loss with Vanilla update of weights')\n",
        "plt.xlabel('Epochs')\n",
        "plt.ylabel('Loss')\n",
        "plt.title('Epoch v/s Loss')\n",
        "plt.legend()\n",
        "plt.show()"
      ],
      "metadata": {
        "id": "PJ3rnatZgQ9q",
        "outputId": "a8c067e1-2fe5-41c3-9e43-98a930f9d2e5",
        "colab": {
          "base_uri": "https://localhost:8080/",
          "height": 295
        }
      },
      "execution_count": 108,
      "outputs": [
        {
          "output_type": "display_data",
          "data": {
            "image/png": "[encoded data removed]",
            "text/plain": [
              "<Figure size 432x288 with 1 Axes>"
            ]
          },
          "metadata": {
            "needs_background": "light"
          }
        }
      ]
    },
    {
      "cell_type": "markdown",
      "metadata": {
        "id": "V4RWWrZ7lWap"
      },
      "source": [
        "### <font color='blue'>2.2 Algorithm with Momentum update of weights</font>"
      ]
    },
    {
      "cell_type": "markdown",
      "metadata": {
        "id": "oM2BAasL6zz4"
      },
      "source": [
        "<img src='https://i.imgur.com/gyPSXhS.png'>"
      ]
    },
    {
      "cell_type": "markdown",
      "metadata": {
        "id": "2iCc4sIE-4A-"
      },
      "source": [
        "Here Gamma referes to the momentum coefficient, eta is leaning rate and v_t is moving average of our gradients at timestep t"
      ]
    },
    {
      "cell_type": "code",
      "source": [
        "m = np.zeros(9) \n",
        "v = np.zeros(9)\n",
        "epochs =100\n",
        "learning_rate = 0.001\n",
        "Moment_loss =[]\n",
        "for epoch in range(epochs):\n",
        "\n",
        "  loss=0\n",
        "  for i in range(0,506):\n",
        "    l = forward_propagation(X[i],y[i],W1)\n",
        "    loss+= l['loss']\n",
        "    #loss.append(l['loss'])\n",
        "    dw = backward_propagation(X[i],W1,l)\n",
        "    key_l = list(dw.keys())\n",
        "    key_l.reverse()\n",
        "    #print(type(key_l))\n",
        "    #print(key_l)\n",
        "    for k in range(0,9):\n",
        "      v[k]= (m[k] * v[k]) - (learning_rate * dw[key_l[k]])\n",
        "      W1[k] += v[k]\n",
        "  Moment_loss.append(loss)\n",
        "  print(epoch, loss)\n"
      ],
      "metadata": {
        "id": "DZD3AwtvgpSA",
        "outputId": "05968706-0996-47a6-c507-622609ee5424",
        "colab": {
          "base_uri": "https://localhost:8080/"
        }
      },
      "execution_count": 118,
      "outputs": [
        {
          "output_type": "stream",
          "name": "stdout",
          "text": [
            "0 2.891138254529618e+77\n",
            "1 3.812208479260406e+76\n",
            "2 5.026716887916324e+75\n",
            "3 6.628148174143236e+74\n",
            "4 8.739769753893803e+73\n",
            "5 1.1524120062531727e+73\n",
            "6 1.5195519671039163e+72\n",
            "7 2.003656824295623e+71\n",
            "8 2.6419897156908977e+70\n",
            "9 3.4836852165391434e+69\n",
            "10 4.593531388807768e+68\n",
            "11 6.056956730701532e+67\n",
            "12 7.986605888223285e+66\n",
            "13 1.0531010282851243e+66\n",
            "14 1.3886021061969583e+65\n",
            "15 1.830988440372657e+64\n",
            "16 2.4143119571955928e+63\n",
            "17 3.1834729800212596e+62\n",
            "18 4.197676354259284e+61\n",
            "19 5.5349886384114835e+60\n",
            "20 7.298347142999341e+59\n",
            "21 9.623483352806601e+58\n",
            "22 1.2689370624221384e+58\n",
            "23 1.6732000351192252e+57\n",
            "24 2.2062546996453183e+56\n",
            "25 2.9091320210020334e+55\n",
            "26 3.835934770804058e+54\n",
            "27 5.0580019949714485e+53\n",
            "28 6.669400213959492e+52\n",
            "29 8.794164031209319e+51\n",
            "30 1.1595843483188143e+51\n",
            "31 1.5290093021849868e+50\n",
            "32 2.0161271144765857e+49\n",
            "33 2.6584328400873944e+48\n",
            "34 3.5053668563402297e+47\n",
            "35 4.622120450906218e+46\n",
            "36 6.094653808928448e+45\n",
            "37 8.036312650269269e+44\n",
            "38 1.0596552821140941e+44\n",
            "39 1.3972444400538282e+43\n",
            "40 1.8423840830259142e+42\n",
            "41 2.429338068617743e+41\n",
            "42 3.2032861692674307e+40\n",
            "43 4.2238017074578596e+39\n",
            "44 5.569437109642925e+38\n",
            "45 7.343770344024179e+37\n",
            "46 9.683377656315136e+36\n",
            "47 1.2768346291101682e+36\n",
            "48 1.68361363974241e+35\n",
            "49 2.2199859114896364e+34\n",
            "50 2.927237776457129e+33\n",
            "51 3.8598087292220675e+32\n",
            "52 5.089481813196021e+31\n",
            "53 6.710908996797265e+30\n",
            "54 8.848896845750458e+29\n",
            "55 1.1668013293594351e+29\n",
            "56 1.5385254975017003e+28\n",
            "57 2.028675016819166e+27\n",
            "58 2.6749783026340843e+26\n",
            "59 3.527183437583289e+25\n",
            "60 4.6508874446246454e+24\n",
            "61 6.132585504937258e+23\n",
            "62 8.086328775572933e+22\n",
            "63 1.0662503280919024e+22\n",
            "64 1.4059405618065116e+21\n",
            "65 1.8538506496196988e+20\n",
            "66 2.444457699516925e+19\n",
            "67 3.2232226729124777e+18\n",
            "68 4.250089665102849e+17\n",
            "69 5.604100003229788e+16\n",
            "70 7389476332460328.0\n",
            "71 974364503316697.8\n",
            "72 128478145924266.05\n",
            "73 16940924586908.248\n",
            "74 2233804044728.707\n",
            "75 294546152522.2874\n",
            "76 38838505467.16954\n",
            "77 5121227549.710677\n",
            "78 675293038.9526815\n",
            "79 89048946.12941894\n",
            "80 11743998.640387516\n",
            "81 1549333.3163707757\n",
            "82 204587.60407542886\n",
            "83 27092.387995732908\n",
            "84 3623.080069123531\n",
            "85 504.825031983293\n",
            "86 85.07641100168983\n",
            "87 26.613247150611667\n",
            "88 17.77297481086263\n",
            "89 16.19646833000375\n",
            "90 15.839406358816296\n",
            "91 15.738151726073045\n",
            "92 15.7051289791647\n",
            "93 15.693631486068293\n",
            "94 15.689521596165253\n",
            "95 15.688037786188868\n",
            "96 15.687500112633607\n",
            "97 15.68730502022142\n",
            "98 15.687234197341738\n",
            "99 15.687208482512775\n"
          ]
        }
      ]
    },
    {
      "cell_type": "markdown",
      "source": [
        "# Plot between epochs and loss"
      ],
      "metadata": {
        "id": "ZoIwa9s1iNSd"
      }
    },
    {
      "cell_type": "code",
      "source": [
        "epoch = range(0,100)\n",
        "plt.plot(epoch, Moment_loss, 'g', label='Loss with Momentum update of weights')\n",
        "plt.xlabel('Epochs')\n",
        "plt.ylabel('Loss')\n",
        "plt.title('Epoch v/s Loss')\n",
        "plt.legend()\n",
        "plt.show()"
      ],
      "metadata": {
        "id": "DulbKoCOgpN9",
        "outputId": "419d7a9c-334d-4c27-abbd-b8104c18c31d",
        "colab": {
          "base_uri": "https://localhost:8080/",
          "height": 295
        }
      },
      "execution_count": 119,
      "outputs": [
        {
          "output_type": "display_data",
          "data": {
            "image/png": "[encoded data removed]",
            "text/plain": [
              "<Figure size 432x288 with 1 Axes>"
            ]
          },
          "metadata": {
            "needs_background": "light"
          }
        }
      ]
    },
    {
      "cell_type": "markdown",
      "metadata": {
        "id": "Agtmr_lZQoW6"
      },
      "source": [
        "### <font color='blue'>2.3 Algorithm with Adam update of weights</font>"
      ]
    },
    {
      "cell_type": "markdown",
      "metadata": {
        "id": "WRYiT2KKQoW6"
      },
      "source": [
        "<img src='https://i.imgur.com/GDR8UFP.jpg'>"
      ]
    },
    {
      "cell_type": "code",
      "metadata": {
        "id": "0YffVQ2LQoW6",
        "outputId": "1443577f-48a8-4aee-d1d0-76825706528e",
        "colab": {
          "base_uri": "https://localhost:8080/"
        }
      },
      "source": [
        "m = np.zeros(9) \n",
        "v = np.zeros(9)\n",
        "beta_1 = .9\n",
        "beta_2 = .999\n",
        "epsilon =0.0001\n",
        "epochs =100\n",
        "learning_rate = .001\n",
        "Adam_loss =[]\n",
        "for epoch in range(epochs):\n",
        "  loss=0\n",
        "  for i in range(0,506):\n",
        "    l = forward_propagation(X[i],y[i],W1)\n",
        "    loss+= l['loss']\n",
        "    #loss.append(l['loss'])\n",
        "    dw = backward_propagation(X[i],W1,l)\n",
        "    key_l = list(dw.keys())\n",
        "    key_l.reverse()\n",
        "    #print(type(key_l))\n",
        "    #print(key_l)\n",
        "    for k in range(0,9):\n",
        "      m[k] = beta_1 * m[k] + (1-beta_1)* dw[key_l[k]]\n",
        "      v[k] = beta_2 * v[k] + (1-beta_2)* dw[key_l[k]] * dw[key_l[k]]\n",
        "      m_hat = m[k] / (1-beta_1**(k+1))\n",
        "      v_hat = v[k] / (1-beta_2**(k+1))\n",
        "      W1[k] = W1[k] - ((learning_rate* m_hat)/(np.sqrt(v_hat) + epsilon))\n",
        "  Adam_loss.append(loss) \n",
        "  print(epoch, loss)"
      ],
      "execution_count": 120,
      "outputs": [
        {
          "output_type": "stream",
          "name": "stdout",
          "text": [
            "0 16.12532957257376\n",
            "1 15.863730164437062\n",
            "2 15.855378848177233\n",
            "3 15.857312324979524\n",
            "4 15.860353190566038\n",
            "5 15.862947611352336\n",
            "6 15.864890141290948\n",
            "7 15.866270926874238\n",
            "8 15.867226704952875\n",
            "9 15.867877969082347\n",
            "10 15.868317183097515\n",
            "11 15.868611237185705\n",
            "12 15.868807034619055\n",
            "13 15.868936851566591\n",
            "14 15.869022625004785\n",
            "15 15.869079134730013\n",
            "16 15.869116273696687\n",
            "17 15.869140630300851\n",
            "18 15.869156574329024\n",
            "19 15.869166994297592\n",
            "20 15.869173794136817\n",
            "21 15.869178225727325\n",
            "22 15.869181110455601\n",
            "23 15.869182986238789\n",
            "24 15.869184204765554\n",
            "25 15.869184995624963\n",
            "26 15.869185508496388\n",
            "27 15.869185840843741\n",
            "28 15.869186056060974\n",
            "29 15.869186195340351\n",
            "30 15.86918628542342\n",
            "31 15.869186343656004\n",
            "32 15.86918638128068\n",
            "33 15.86918640557919\n",
            "34 15.869186421264889\n",
            "35 15.869186431386579\n",
            "36 15.869186437915594\n",
            "37 15.869186442125722\n",
            "38 15.86918644483963\n",
            "39 15.869186446588671\n",
            "40 15.869186447715427\n",
            "41 15.869186448441221\n",
            "42 15.869186448908614\n",
            "43 15.8691864492095\n",
            "44 15.869186449403163\n",
            "45 15.869186449527817\n",
            "46 15.869186449608002\n",
            "47 15.869186449659592\n",
            "48 15.869186449692798\n",
            "49 15.869186449714093\n",
            "50 15.869186449727891\n",
            "51 15.869186449736693\n",
            "52 15.869186449742365\n",
            "53 15.869186449746\n",
            "54 15.869186449748371\n",
            "55 15.869186449749844\n",
            "56 15.869186449750861\n",
            "57 15.869186449751432\n",
            "58 15.869186449751869\n",
            "59 15.869186449752133\n",
            "60 15.86918644975228\n",
            "61 15.869186449752366\n",
            "62 15.869186449752451\n",
            "63 15.869186449752476\n",
            "64 15.869186449752515\n",
            "65 15.869186449752506\n",
            "66 15.869186449752538\n",
            "67 15.86918644975254\n",
            "68 15.869186449752547\n",
            "69 15.869186449752547\n",
            "70 15.86918644975255\n",
            "71 15.869186449752553\n",
            "72 15.869186449752569\n",
            "73 15.869186449752565\n",
            "74 15.869186449752565\n",
            "75 15.869186449752565\n",
            "76 15.869186449752565\n",
            "77 15.869186449752565\n",
            "78 15.869186449752565\n",
            "79 15.869186449752565\n",
            "80 15.869186449752565\n",
            "81 15.869186449752565\n",
            "82 15.869186449752565\n",
            "83 15.869186449752565\n",
            "84 15.869186449752565\n",
            "85 15.869186449752565\n",
            "86 15.869186449752565\n",
            "87 15.869186449752565\n",
            "88 15.869186449752565\n",
            "89 15.869186449752565\n",
            "90 15.869186449752565\n",
            "91 15.869186449752565\n",
            "92 15.869186449752565\n",
            "93 15.869186449752565\n",
            "94 15.869186449752565\n",
            "95 15.869186449752565\n",
            "96 15.869186449752565\n",
            "97 15.869186449752565\n",
            "98 15.869186449752565\n",
            "99 15.869186449752565\n"
          ]
        }
      ]
    },
    {
      "cell_type": "markdown",
      "source": [
        "# Plot between epochs and loss"
      ],
      "metadata": {
        "id": "1v2d065_krcT"
      }
    },
    {
      "cell_type": "code",
      "source": [
        "epoch = range(0,100)\n",
        "plt.plot(epoch, Adam_loss, 'g', label='Loss with Adam update of weights')\n",
        "plt.xlabel('Epochs')\n",
        "plt.ylabel('Loss')\n",
        "plt.title('Epoch v/s Loss')\n",
        "plt.legend()\n",
        "plt.show()"
      ],
      "metadata": {
        "id": "Z-ZLopaokAC2",
        "outputId": "27a99e01-27fd-4e55-8515-3bd5c3449ad9",
        "colab": {
          "base_uri": "https://localhost:8080/",
          "height": 295
        }
      },
      "execution_count": 121,
      "outputs": [
        {
          "output_type": "display_data",
          "data": {
            "image/png": "[encoded data removed]",
            "text/plain": [
              "<Figure size 432x288 with 1 Axes>"
            ]
          },
          "metadata": {
            "needs_background": "light"
          }
        }
      ]
    },
    {
      "cell_type": "code",
      "source": [
        ""
      ],
      "metadata": {
        "id": "M3UV0mfTkJe4"
      },
      "execution_count": null,
      "outputs": []
    },
    {
      "cell_type": "markdown",
      "metadata": {
        "id": "7627cy8YlnYO"
      },
      "source": [
        "<font color='blue'>Comparision plot between epochs and loss with different optimizers. Make sure that loss is conerging with increaing epochs</font>"
      ]
    },
    {
      "cell_type": "code",
      "metadata": {
        "id": "scleSfIXl_bC"
      },
      "source": [
        "#plot the graph between loss vs epochs for all 3 optimizers."
      ],
      "execution_count": null,
      "outputs": []
    },
    {
      "cell_type": "markdown",
      "metadata": {
        "id": "YfDWEOCr69uQ"
      },
      "source": [
        "<font color='blue'><b>You can go through the following blog to understand the implementation of other optimizers .</font>\n",
        "   <br> [Gradients update blog](https://cs231n.github.io/neural-networks-3/) </br>"
      ]
    },
    {
      "cell_type": "code",
      "metadata": {
        "id": "IsoSyrCQ6_xb"
      },
      "source": [
        ""
      ],
      "execution_count": null,
      "outputs": []
    }
  ]
}